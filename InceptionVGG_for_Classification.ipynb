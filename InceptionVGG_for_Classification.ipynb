{
  "nbformat": 4,
  "nbformat_minor": 0,
  "metadata": {
    "accelerator": "GPU",
    "colab": {
      "provenance": []
    },
    "kernelspec": {
      "display_name": "Python 3",
      "name": "python3"
    },
    "language_info": {
      "name": "python"
    }
  },
  "cells": [
    {
      "cell_type": "markdown",
      "metadata": {
        "id": "ToGjyjpFjfB7"
      },
      "source": [
        "***Library Imports***"
      ]
    },
    {
      "cell_type": "code",
      "metadata": {
        "id": "VIMNxva5BXFP"
      },
      "source": [
        "import os\n",
        "import cv2\n",
        "import numpy as np\n",
        "import tensorflow as tf\n",
        "import keras.backend as K\n",
        "from tensorflow.keras.optimizers import *\n",
        "from tensorflow.keras.models import *\n",
        "from tensorflow.keras.layers import *\n",
        "from tensorflow.keras.preprocessing.image import ImageDataGenerator\n",
        "from tensorflow.keras.regularizers import l2\n",
        "from sklearn.metrics import accuracy_score\n",
        "from sklearn.metrics import classification_report, confusion_matrix"
      ],
      "execution_count": 1,
      "outputs": []
    },
    {
      "cell_type": "markdown",
      "metadata": {
        "id": "9MsreTgvjocG"
      },
      "source": [
        "***Connect Google Drive***"
      ]
    },
    {
      "cell_type": "code",
      "metadata": {
        "colab": {
          "base_uri": "https://localhost:8080/"
        },
        "id": "F4EILZm_BnMq",
        "outputId": "0ced81b0-ab70-4bcb-cd14-43423209fc4c"
      },
      "source": [
        "from google.colab import drive\n",
        "drive.mount('/content/drive', force_remount=True)"
      ],
      "execution_count": 2,
      "outputs": [
        {
          "output_type": "stream",
          "name": "stdout",
          "text": [
            "Mounted at /content/drive\n"
          ]
        }
      ]
    },
    {
      "cell_type": "markdown",
      "metadata": {
        "id": "Mccs0G8DB_l3"
      },
      "source": [
        "***DATA LOADING AND PROCESSING***"
      ]
    },
    {
      "cell_type": "code",
      "metadata": {
        "id": "yu_pfiaiNyga"
      },
      "source": [
        "data_dir='/content/drive/MyDrive/covid_multiclass_classification/data'\n",
        "train_datagen = ImageDataGenerator(rescale = 1./255, \n",
        "                                   rotation_range=20,\n",
        "                                   width_shift_range=0.2,\n",
        "                                   height_shift_range=0.2,\n",
        "                                   horizontal_flip=True)\n",
        "\n",
        "valid_datagen = ImageDataGenerator(rescale = 1./255)"
      ],
      "execution_count": null,
      "outputs": []
    },
    {
      "cell_type": "markdown",
      "metadata": {
        "id": "8QijGaCzj5In"
      },
      "source": [
        "***Training and Validation Set***"
      ]
    },
    {
      "cell_type": "code",
      "metadata": {
        "colab": {
          "base_uri": "https://localhost:8080/"
        },
        "id": "mifMZVnEN0G3",
        "outputId": "d592f5e1-7f95-4f13-8ceb-1f77fa380159"
      },
      "source": [
        "input_size = (128,128)\n",
        "training_set = train_datagen.flow_from_directory(\"/content/drive/MyDrive/covid_multiclass_classification/data/train\",  \n",
        "                                                 target_size = input_size, \n",
        "                                                 color_mode=\"rgb\",\n",
        "                                                 batch_size = 16, \n",
        "                                                 class_mode = 'categorical')\n",
        "\n",
        "validation_set = valid_datagen.flow_from_directory(\n",
        "                                  \"/content/drive/MyDrive/covid_multiclass_classification/data/val\", \n",
        "                                  target_size=input_size,\n",
        "                                  color_mode=\"rgb\",\n",
        "                                  shuffle = False,\n",
        "                                  class_mode='categorical',\n",
        "                                  batch_size=1)\n",
        "\n",
        "test_set = valid_datagen.flow_from_directory(\n",
        "                                  \"/content/drive/MyDrive/covid_multiclass_classification/data/test\", \n",
        "                                  target_size=input_size,\n",
        "                                  color_mode=\"rgb\",\n",
        "                                  shuffle = False,\n",
        "                                  class_mode='categorical',\n",
        "                                  batch_size=1)"
      ],
      "execution_count": null,
      "outputs": [
        {
          "output_type": "stream",
          "name": "stdout",
          "text": [
            "Found 3454 images belonging to 3 classes.\n",
            "Found 72 images belonging to 3 classes.\n",
            "Found 360 images belonging to 3 classes.\n"
          ]
        }
      ]
    },
    {
      "cell_type": "markdown",
      "metadata": {
        "id": "m1TBtUIyj75n"
      },
      "source": [
        "\n",
        "\n",
        "***Baseline Model Architechture***"
      ]
    },
    {
      "cell_type": "markdown",
      "source": [
        "Inception Modeule"
      ],
      "metadata": {
        "id": "J_GhCx9QpUHk"
      }
    },
    {
      "cell_type": "code",
      "metadata": {
        "id": "AljifqvGObPR"
      },
      "source": [
        "def inception_module(layer_in, f1, f2, f3):\n",
        "\t# 1x1 conv\n",
        "\tconv1 = Conv2D(f1, (1,1), padding='same', activation='selu')(layer_in)\n",
        "\t# 3x3 conv\n",
        "\tconv3 = Conv2D(f2, (3,3), padding='same', activation='selu')(layer_in)\n",
        "\t# 5x5 conv\n",
        "\tconv5 = Conv2D(f3, (5,5), padding='same', activation='selu')(layer_in)\n",
        "\t# concatenate filters, assumes filters/channels last\n",
        "\tlayer_out = concatenate([conv1, conv3, conv5], axis=-1)\n",
        "\treturn layer_out"
      ],
      "execution_count": 3,
      "outputs": []
    },
    {
      "cell_type": "markdown",
      "source": [
        "Model Definition"
      ],
      "metadata": {
        "id": "i6xI8oCgpXVr"
      }
    },
    {
      "cell_type": "code",
      "metadata": {
        "id": "N1M9-R9r0TdG"
      },
      "source": [
        "def InceptionVgg(input_size= (128,128,3),classes=3):\n",
        "\n",
        "    img_input = Input(input_size)\n",
        "\n",
        "    #Inception Block\n",
        "    inception= inception_module(img_input, 16,16,32)\n",
        "\n",
        "    # Block 1\n",
        "    x = Conv2D(filters=64, kernel_size=3, strides=(1, 1), padding='same',\n",
        "               kernel_regularizer=l2(0.0002),\n",
        "               activation='selu', name='block1_conv1')(inception)\n",
        "\n",
        "    x = Conv2D(filters=64, kernel_size=3, strides=(1, 1), padding='same',\n",
        "               kernel_regularizer=l2(0.0002),\n",
        "               activation='selu', name='block1_conv2')(x)\n",
        "\n",
        "    x = MaxPooling2D(pool_size=(2, 2), strides=(2, 2), name=\"block1_pool\", padding='valid')(x)\n",
        "\n",
        "    # Block 2\n",
        "    x = Conv2D(filters=128, kernel_size=3, strides=(1, 1), padding='same',\n",
        "               kernel_regularizer=l2(0.0002),\n",
        "               activation='selu', name='block2_conv1')(x)\n",
        "\n",
        "    x = Conv2D(filters=128, kernel_size=3, strides=(1, 1), padding='same',\n",
        "               kernel_regularizer=l2(0.0002),\n",
        "               activation='selu', name='block2_conv2')(x)\n",
        "\n",
        "    x = MaxPooling2D(pool_size=(2, 2), strides=(2, 2), name=\"block2_pool\", padding='valid')(x)\n",
        "\n",
        "    # Block 3\n",
        "    x = Conv2D(filters=256, kernel_size=3, strides=(1, 1), padding='same',\n",
        "               kernel_regularizer=l2(0.0002),\n",
        "               activation='selu', name='block3_conv1')(x)\n",
        "\n",
        "    x = Conv2D(filters=256, kernel_size=3, strides=(1, 1), padding='same',\n",
        "               kernel_regularizer=l2(0.0002),\n",
        "               activation='selu', name='block3_conv2')(x)\n",
        "\n",
        "    x = Conv2D(filters=256, kernel_size=3, strides=(1, 1), padding='same',\n",
        "               kernel_regularizer=l2(0.0002),\n",
        "               activation='selu', name='block3_conv3')(x)\n",
        "\n",
        "    x = MaxPooling2D(pool_size=(2, 2), strides=(2, 2), name=\"block3_pool\", padding='valid')(x)\n",
        "\n",
        "    # Block 4\n",
        "    x = Conv2D(filters=512, kernel_size=3, strides=(1, 1), padding='same',\n",
        "               kernel_regularizer=l2(0.0002),\n",
        "               activation='selu', name='block4_conv1')(x)\n",
        "\n",
        "    x = Conv2D(filters=512, kernel_size=3, strides=(1, 1), padding='same',\n",
        "               kernel_regularizer=l2(0.0002),\n",
        "               activation='selu', name='block4_conv2')(x)\n",
        "\n",
        "    x = Conv2D(filters=512, kernel_size=3, strides=(1, 1), padding='same',\n",
        "               kernel_regularizer=l2(0.0002),\n",
        "               activation='selu', name='block4_conv3')(x)\n",
        "\n",
        "    x = MaxPooling2D(pool_size=(2, 2), strides=(2, 2), name=\"block4_pool\", padding='valid')(x)\n",
        "\n",
        "    # Block 5\n",
        "    x = Conv2D(filters=512, kernel_size=3, strides=(1, 1), padding='same',\n",
        "               kernel_regularizer=l2(0.0002),\n",
        "               activation='selu', name='block5_conv1')(x)\n",
        "\n",
        "    x = Conv2D(filters=512, kernel_size=3, strides=(1, 1), padding='same',\n",
        "               kernel_regularizer=l2(0.0002),\n",
        "               activation='selu', name='block5_conv2')(x)\n",
        "\n",
        "    x = Conv2D(filters=512, kernel_size=3, strides=(1, 1), padding='same',\n",
        "               kernel_regularizer=l2(0.0002),\n",
        "               activation='selu', name='block5_conv3')(x)\n",
        "\n",
        "    x = MaxPooling2D(pool_size=(2, 2), strides=(2, 2), name=\"block5_pool\", padding='valid')(x)\n",
        "\n",
        "   \n",
        "    # Classification block\n",
        "    x = Flatten(name='flatten')(x)\n",
        "    x = Dense(4096, activation='selu', name='fc1')(x)\n",
        "    x = Dropout(0.5, name='drop_fc1')(x)\n",
        "\n",
        "    x = Dense(2048, activation='selu', name='fc2')(x)\n",
        "    x = Dropout(0.5, name='drop_fc2')(x)\n",
        "    \n",
        "    x = Dense(classes, activation='softmax', name=\"predictions\")(x)\n",
        "\n",
        "\n",
        "    # Create model.\n",
        "    model = Model(img_input, x, name='vgg16')\n",
        "\n",
        "    return model\n",
        "model= InceptionVgg()\n",
        "\n",
        "loss= [tf.keras.losses.categorical_crossentropy, tf.keras.losses.kl_divergence]\n",
        "\n",
        "model.compile(optimizer = Adam(learning_rate = 0.0001), \n",
        "                       loss= loss,metrics = ['categorical_accuracy'])\n",
        "#proposed_model.summary()"
      ],
      "execution_count": 4,
      "outputs": []
    },
    {
      "cell_type": "markdown",
      "metadata": {
        "id": "MmspX0tdkC-I"
      },
      "source": [
        "***Base line Model Training***"
      ]
    },
    {
      "cell_type": "code",
      "metadata": {
        "colab": {
          "base_uri": "https://localhost:8080/"
        },
        "id": "-Jgc0VpLHxRq",
        "outputId": "e40daecf-4919-4eab-e1d3-dbc37110f04e"
      },
      "source": [
        "LR_callback= [tf.keras.callbacks.ReduceLROnPlateau(patience= 5, verbose= 1, monitor= 'loss')]\n",
        "\n",
        "\n",
        "model_checkpoint_callback = tf.keras.callbacks.ModelCheckpoint('/content/drive/MyDrive/covid_multiclass_classification/best_model.h5',\n",
        "                                                               save_weights_only=True,val_loss='loss',\n",
        "                                                               mode='min',save_best_only=True,verbose=2)\n",
        "\n",
        "history= model.fit( training_set,validation_data= validation_set, callbacks=[LR_callback, model_checkpoint_callback],\n",
        "                   epochs=50,shuffle= True)"
      ],
      "execution_count": null,
      "outputs": [
        {
          "output_type": "stream",
          "name": "stdout",
          "text": [
            "Epoch 1/50\n",
            "215/215 [==============================] - 88s 383ms/step - loss: 6.3668 - categorical_accuracy: 0.3959 - val_loss: 2.3352 - val_categorical_accuracy: 0.5972\n",
            "\n",
            "Epoch 00001: val_loss improved from inf to 2.33519, saving model to /content/drive/MyDrive/covid_multiclass_classification/best_model.h5\n",
            "Epoch 2/50\n",
            "215/215 [==============================] - 80s 370ms/step - loss: 4.2387 - categorical_accuracy: 0.5154 - val_loss: 2.2225 - val_categorical_accuracy: 0.6944\n",
            "\n",
            "Epoch 00002: val_loss improved from 2.33519 to 2.22254, saving model to /content/drive/MyDrive/covid_multiclass_classification/best_model.h5\n",
            "Epoch 3/50\n",
            "215/215 [==============================] - 78s 360ms/step - loss: 3.0296 - categorical_accuracy: 0.6111 - val_loss: 1.6517 - val_categorical_accuracy: 0.6944\n",
            "\n",
            "Epoch 00003: val_loss improved from 2.22254 to 1.65171, saving model to /content/drive/MyDrive/covid_multiclass_classification/best_model.h5\n",
            "Epoch 4/50\n",
            "215/215 [==============================] - 78s 361ms/step - loss: 2.2665 - categorical_accuracy: 0.7065 - val_loss: 1.1369 - val_categorical_accuracy: 0.9306\n",
            "\n",
            "Epoch 00004: val_loss improved from 1.65171 to 1.13688, saving model to /content/drive/MyDrive/covid_multiclass_classification/best_model.h5\n",
            "Epoch 5/50\n",
            "215/215 [==============================] - 78s 363ms/step - loss: 1.9181 - categorical_accuracy: 0.7647 - val_loss: 1.0635 - val_categorical_accuracy: 0.9306\n",
            "\n",
            "Epoch 00005: val_loss improved from 1.13688 to 1.06346, saving model to /content/drive/MyDrive/covid_multiclass_classification/best_model.h5\n",
            "Epoch 6/50\n",
            "215/215 [==============================] - 80s 372ms/step - loss: 1.8962 - categorical_accuracy: 0.7755 - val_loss: 1.1659 - val_categorical_accuracy: 0.8611\n",
            "\n",
            "Epoch 00006: val_loss did not improve from 1.06346\n",
            "Epoch 7/50\n",
            "215/215 [==============================] - 77s 357ms/step - loss: 1.6876 - categorical_accuracy: 0.8019 - val_loss: 1.2403 - val_categorical_accuracy: 0.8750\n",
            "\n",
            "Epoch 00007: val_loss did not improve from 1.06346\n",
            "Epoch 8/50\n",
            "215/215 [==============================] - 78s 364ms/step - loss: 1.5182 - categorical_accuracy: 0.8377 - val_loss: 1.1376 - val_categorical_accuracy: 0.9306\n",
            "\n",
            "Epoch 00008: val_loss did not improve from 1.06346\n",
            "Epoch 9/50\n",
            "215/215 [==============================] - 77s 359ms/step - loss: 1.5693 - categorical_accuracy: 0.8339 - val_loss: 0.9280 - val_categorical_accuracy: 0.9722\n",
            "\n",
            "Epoch 00009: val_loss improved from 1.06346 to 0.92795, saving model to /content/drive/MyDrive/covid_multiclass_classification/best_model.h5\n",
            "Epoch 10/50\n",
            "215/215 [==============================] - 77s 358ms/step - loss: 1.3610 - categorical_accuracy: 0.8549 - val_loss: 1.1208 - val_categorical_accuracy: 0.8611\n",
            "\n",
            "Epoch 00010: val_loss did not improve from 0.92795\n",
            "Epoch 11/50\n",
            "215/215 [==============================] - 76s 355ms/step - loss: 1.4855 - categorical_accuracy: 0.8485 - val_loss: 0.9084 - val_categorical_accuracy: 0.9583\n",
            "\n",
            "Epoch 00011: val_loss improved from 0.92795 to 0.90844, saving model to /content/drive/MyDrive/covid_multiclass_classification/best_model.h5\n",
            "Epoch 12/50\n",
            "215/215 [==============================] - 78s 362ms/step - loss: 1.3743 - categorical_accuracy: 0.8551 - val_loss: 0.9745 - val_categorical_accuracy: 0.9167\n",
            "\n",
            "Epoch 00012: val_loss did not improve from 0.90844\n",
            "Epoch 13/50\n",
            "215/215 [==============================] - 80s 371ms/step - loss: 1.2996 - categorical_accuracy: 0.8764 - val_loss: 0.9542 - val_categorical_accuracy: 0.9167\n",
            "\n",
            "Epoch 00013: val_loss did not improve from 0.90844\n",
            "Epoch 14/50\n",
            "215/215 [==============================] - 79s 366ms/step - loss: 1.3524 - categorical_accuracy: 0.8615 - val_loss: 1.5243 - val_categorical_accuracy: 0.8333\n",
            "\n",
            "Epoch 00014: val_loss did not improve from 0.90844\n",
            "Epoch 15/50\n",
            "215/215 [==============================] - 80s 371ms/step - loss: 1.3274 - categorical_accuracy: 0.8746 - val_loss: 1.1761 - val_categorical_accuracy: 0.9028\n",
            "\n",
            "Epoch 00015: val_loss did not improve from 0.90844\n",
            "Epoch 16/50\n",
            "215/215 [==============================] - 78s 360ms/step - loss: 1.3879 - categorical_accuracy: 0.8569 - val_loss: 0.9626 - val_categorical_accuracy: 0.9444\n",
            "\n",
            "Epoch 00016: val_loss did not improve from 0.90844\n",
            "Epoch 17/50\n",
            "215/215 [==============================] - 81s 377ms/step - loss: 1.2280 - categorical_accuracy: 0.8845 - val_loss: 1.0389 - val_categorical_accuracy: 0.9028\n",
            "\n",
            "Epoch 00017: val_loss did not improve from 0.90844\n",
            "Epoch 18/50\n",
            "215/215 [==============================] - 79s 365ms/step - loss: 1.2298 - categorical_accuracy: 0.8869 - val_loss: 1.1246 - val_categorical_accuracy: 0.9167\n",
            "\n",
            "Epoch 00018: val_loss did not improve from 0.90844\n",
            "Epoch 19/50\n",
            "215/215 [==============================] - 80s 371ms/step - loss: 1.2391 - categorical_accuracy: 0.8851 - val_loss: 1.0630 - val_categorical_accuracy: 0.8750\n",
            "\n",
            "Epoch 00019: val_loss did not improve from 0.90844\n",
            "Epoch 20/50\n",
            "215/215 [==============================] - 79s 366ms/step - loss: 1.2171 - categorical_accuracy: 0.8837 - val_loss: 1.2303 - val_categorical_accuracy: 0.9167\n",
            "\n",
            "Epoch 00020: val_loss did not improve from 0.90844\n",
            "Epoch 21/50\n",
            "215/215 [==============================] - 78s 361ms/step - loss: 1.2347 - categorical_accuracy: 0.8805 - val_loss: 1.0901 - val_categorical_accuracy: 0.9167\n",
            "\n",
            "Epoch 00021: val_loss did not improve from 0.90844\n",
            "Epoch 22/50\n",
            "215/215 [==============================] - 78s 362ms/step - loss: 1.1771 - categorical_accuracy: 0.8906 - val_loss: 0.9571 - val_categorical_accuracy: 0.9306\n",
            "\n",
            "Epoch 00022: val_loss did not improve from 0.90844\n",
            "Epoch 23/50\n",
            "215/215 [==============================] - 76s 352ms/step - loss: 1.1669 - categorical_accuracy: 0.8965 - val_loss: 0.9688 - val_categorical_accuracy: 0.9306\n",
            "\n",
            "Epoch 00023: val_loss did not improve from 0.90844\n",
            "Epoch 24/50\n",
            "215/215 [==============================] - 79s 367ms/step - loss: 1.1221 - categorical_accuracy: 0.8953 - val_loss: 1.1620 - val_categorical_accuracy: 0.9167\n",
            "\n",
            "Epoch 00024: val_loss did not improve from 0.90844\n",
            "Epoch 25/50\n",
            "215/215 [==============================] - 81s 377ms/step - loss: 1.1236 - categorical_accuracy: 0.9055 - val_loss: 0.9457 - val_categorical_accuracy: 0.9583\n",
            "\n",
            "Epoch 00025: val_loss did not improve from 0.90844\n",
            "Epoch 26/50\n",
            "215/215 [==============================] - 78s 364ms/step - loss: 1.0989 - categorical_accuracy: 0.9046 - val_loss: 0.9470 - val_categorical_accuracy: 0.9306\n",
            "\n",
            "Epoch 00026: val_loss did not improve from 0.90844\n",
            "Epoch 27/50\n",
            "215/215 [==============================] - 80s 370ms/step - loss: 1.0576 - categorical_accuracy: 0.9124 - val_loss: 1.0407 - val_categorical_accuracy: 0.9306\n",
            "\n",
            "Epoch 00027: val_loss did not improve from 0.90844\n",
            "Epoch 28/50\n",
            "215/215 [==============================] - 78s 360ms/step - loss: 1.0792 - categorical_accuracy: 0.9101 - val_loss: 0.9583 - val_categorical_accuracy: 0.9722\n",
            "\n",
            "Epoch 00028: val_loss did not improve from 0.90844\n",
            "Epoch 29/50\n",
            "215/215 [==============================] - 80s 370ms/step - loss: 1.0977 - categorical_accuracy: 0.9098 - val_loss: 0.8495 - val_categorical_accuracy: 0.9722\n",
            "\n",
            "Epoch 00029: val_loss improved from 0.90844 to 0.84952, saving model to /content/drive/MyDrive/covid_multiclass_classification/best_model.h5\n",
            "Epoch 30/50\n",
            "215/215 [==============================] - 81s 376ms/step - loss: 1.1300 - categorical_accuracy: 0.8982 - val_loss: 0.8207 - val_categorical_accuracy: 0.9722\n",
            "\n",
            "Epoch 00030: val_loss improved from 0.84952 to 0.82068, saving model to /content/drive/MyDrive/covid_multiclass_classification/best_model.h5\n",
            "Epoch 31/50\n",
            "215/215 [==============================] - 80s 372ms/step - loss: 1.0495 - categorical_accuracy: 0.9087 - val_loss: 0.9147 - val_categorical_accuracy: 0.9583\n",
            "\n",
            "Epoch 00031: val_loss did not improve from 0.82068\n",
            "Epoch 32/50\n",
            "215/215 [==============================] - 81s 377ms/step - loss: 1.0731 - categorical_accuracy: 0.9087 - val_loss: 0.9020 - val_categorical_accuracy: 0.9444\n",
            "\n",
            "Epoch 00032: val_loss did not improve from 0.82068\n",
            "Epoch 33/50\n",
            "215/215 [==============================] - 79s 368ms/step - loss: 0.9833 - categorical_accuracy: 0.9209 - val_loss: 0.9554 - val_categorical_accuracy: 0.9167\n",
            "\n",
            "Epoch 00033: val_loss did not improve from 0.82068\n",
            "Epoch 34/50\n",
            "215/215 [==============================] - 79s 367ms/step - loss: 0.9726 - categorical_accuracy: 0.9255 - val_loss: 0.9851 - val_categorical_accuracy: 0.9167\n",
            "\n",
            "Epoch 00034: val_loss did not improve from 0.82068\n",
            "Epoch 35/50\n",
            "215/215 [==============================] - 80s 372ms/step - loss: 0.9598 - categorical_accuracy: 0.9244 - val_loss: 0.8309 - val_categorical_accuracy: 0.9583\n",
            "\n",
            "Epoch 00035: val_loss did not improve from 0.82068\n",
            "Epoch 36/50\n",
            "215/215 [==============================] - 80s 373ms/step - loss: 0.9524 - categorical_accuracy: 0.9282 - val_loss: 0.8297 - val_categorical_accuracy: 0.9444\n",
            "\n",
            "Epoch 00036: val_loss did not improve from 0.82068\n",
            "Epoch 37/50\n",
            "215/215 [==============================] - 84s 389ms/step - loss: 0.9587 - categorical_accuracy: 0.9279 - val_loss: 0.8659 - val_categorical_accuracy: 0.9583\n",
            "\n",
            "Epoch 00037: val_loss did not improve from 0.82068\n",
            "Epoch 38/50\n",
            "215/215 [==============================] - 81s 377ms/step - loss: 0.9492 - categorical_accuracy: 0.9276 - val_loss: 0.7783 - val_categorical_accuracy: 0.9722\n",
            "\n",
            "Epoch 00038: val_loss improved from 0.82068 to 0.77834, saving model to /content/drive/MyDrive/covid_multiclass_classification/best_model.h5\n",
            "Epoch 39/50\n",
            "215/215 [==============================] - 82s 379ms/step - loss: 0.9672 - categorical_accuracy: 0.9191 - val_loss: 0.9017 - val_categorical_accuracy: 0.9444\n",
            "\n",
            "Epoch 00039: val_loss did not improve from 0.77834\n",
            "Epoch 40/50\n",
            "215/215 [==============================] - 82s 379ms/step - loss: 0.9180 - categorical_accuracy: 0.9308 - val_loss: 1.2844 - val_categorical_accuracy: 0.8889\n",
            "\n",
            "Epoch 00040: val_loss did not improve from 0.77834\n",
            "Epoch 41/50\n",
            "215/215 [==============================] - 79s 366ms/step - loss: 0.9410 - categorical_accuracy: 0.9267 - val_loss: 0.8162 - val_categorical_accuracy: 0.9306\n",
            "\n",
            "Epoch 00041: val_loss did not improve from 0.77834\n",
            "Epoch 42/50\n",
            "215/215 [==============================] - 78s 361ms/step - loss: 0.9109 - categorical_accuracy: 0.9316 - val_loss: 1.3084 - val_categorical_accuracy: 0.9444\n",
            "\n",
            "Epoch 00042: val_loss did not improve from 0.77834\n",
            "Epoch 43/50\n",
            "215/215 [==============================] - 81s 374ms/step - loss: 0.8475 - categorical_accuracy: 0.9424 - val_loss: 0.8390 - val_categorical_accuracy: 0.9444\n",
            "\n",
            "Epoch 00043: val_loss did not improve from 0.77834\n",
            "Epoch 44/50\n",
            "215/215 [==============================] - 79s 365ms/step - loss: 0.8288 - categorical_accuracy: 0.9436 - val_loss: 0.8429 - val_categorical_accuracy: 0.9444\n",
            "\n",
            "Epoch 00044: val_loss did not improve from 0.77834\n",
            "Epoch 45/50\n",
            "215/215 [==============================] - 78s 364ms/step - loss: 0.8620 - categorical_accuracy: 0.9380 - val_loss: 0.9862 - val_categorical_accuracy: 0.8889\n",
            "\n",
            "Epoch 00045: val_loss did not improve from 0.77834\n",
            "Epoch 46/50\n",
            "215/215 [==============================] - 81s 375ms/step - loss: 0.8467 - categorical_accuracy: 0.9380 - val_loss: 1.0146 - val_categorical_accuracy: 0.8889\n",
            "\n",
            "Epoch 00046: val_loss did not improve from 0.77834\n",
            "Epoch 47/50\n",
            "215/215 [==============================] - 80s 369ms/step - loss: 0.8904 - categorical_accuracy: 0.9270 - val_loss: 0.9215 - val_categorical_accuracy: 0.9444\n",
            "\n",
            "Epoch 00047: val_loss did not improve from 0.77834\n",
            "Epoch 48/50\n",
            "215/215 [==============================] - 81s 374ms/step - loss: 0.8031 - categorical_accuracy: 0.9442 - val_loss: 0.7415 - val_categorical_accuracy: 0.9583\n",
            "\n",
            "Epoch 00048: val_loss improved from 0.77834 to 0.74152, saving model to /content/drive/MyDrive/covid_multiclass_classification/best_model.h5\n",
            "Epoch 49/50\n",
            "215/215 [==============================] - 80s 371ms/step - loss: 0.8430 - categorical_accuracy: 0.9348 - val_loss: 0.7382 - val_categorical_accuracy: 0.9583\n",
            "\n",
            "Epoch 00049: val_loss improved from 0.74152 to 0.73818, saving model to /content/drive/MyDrive/covid_multiclass_classification/best_model.h5\n",
            "Epoch 50/50\n",
            "215/215 [==============================] - 83s 384ms/step - loss: 0.8009 - categorical_accuracy: 0.9436 - val_loss: 0.7821 - val_categorical_accuracy: 0.9167\n",
            "\n",
            "Epoch 00050: val_loss did not improve from 0.73818\n"
          ]
        }
      ]
    },
    {
      "cell_type": "markdown",
      "metadata": {
        "id": "ZnpeG_UbkHIf"
      },
      "source": [
        "***Load weights for best model***"
      ]
    },
    {
      "cell_type": "code",
      "metadata": {
        "id": "45zEHjNp3Vu2"
      },
      "source": [
        "model.load_weights('/content/drive/MyDrive/covid_multiclass_classification/best_model.h5')"
      ],
      "execution_count": null,
      "outputs": []
    },
    {
      "cell_type": "markdown",
      "metadata": {
        "id": "VycXWocJkONs"
      },
      "source": [
        "***Prediction on Test Set***"
      ]
    },
    {
      "cell_type": "code",
      "metadata": {
        "id": "ZQh-yYZYkNpb"
      },
      "source": [
        "filenames = test_set.filenames\n",
        "nb_samples = len(filenames)\n",
        "y_test= test_set.classes"
      ],
      "execution_count": null,
      "outputs": []
    },
    {
      "cell_type": "code",
      "metadata": {
        "id": "ilk8Nhd-vXHn",
        "colab": {
          "base_uri": "https://localhost:8080/"
        },
        "outputId": "216a6d12-1162-42f0-b50e-b00d7e7afbca"
      },
      "source": [
        "import numpy as np\n",
        "test = model.predict(test_set,steps = nb_samples, verbose=1)\n",
        "pred= test.round()\n",
        "preds = (np.argmax(pred==1, axis=1))"
      ],
      "execution_count": null,
      "outputs": [
        {
          "output_type": "stream",
          "name": "stdout",
          "text": [
            "360/360 [==============================] - 8s 22ms/step\n"
          ]
        }
      ]
    },
    {
      "cell_type": "code",
      "metadata": {
        "id": "CGWhPbY7iCrb",
        "colab": {
          "base_uri": "https://localhost:8080/"
        },
        "outputId": "7950eb0d-655a-4103-8822-4583f6c52215"
      },
      "source": [
        "accuracy = accuracy_score(y_test, preds)\n",
        "print('Accuracy of the model on {} test images:'.format(len(preds)), accuracy)"
      ],
      "execution_count": null,
      "outputs": [
        {
          "output_type": "stream",
          "name": "stdout",
          "text": [
            "Accuracy of the model on 360 test images: 0.9527777777777777\n"
          ]
        }
      ]
    },
    {
      "cell_type": "markdown",
      "metadata": {
        "id": "pgshDFeXb_eP"
      },
      "source": [
        "***Confusion Matix and Weighted Accuracy***"
      ]
    },
    {
      "cell_type": "code",
      "metadata": {
        "id": "0fYPMMu98eQJ",
        "colab": {
          "base_uri": "https://localhost:8080/"
        },
        "outputId": "aa2bab0b-92d5-4f83-adb1-6a0993b0b3c9"
      },
      "source": [
        "#Confusion Matrix and Weighted accuracy\n",
        "cm=confusion_matrix(y_test,preds, normalize= None)\n",
        "class_accuracy_score= np.diag(cm)\n",
        "sample_in_each_class= np.sum(cm, axis=1)\n",
        "class_acc= np.true_divide(class_accuracy_score, sample_in_each_class)\n",
        "Weighted_accuracy= np.sum(np.multiply(class_acc, sample_in_each_class))/(np.sum(sample_in_each_class))\n",
        "print(Weighted_accuracy)"
      ],
      "execution_count": null,
      "outputs": [
        {
          "output_type": "stream",
          "name": "stdout",
          "text": [
            "0.9527777777777777\n"
          ]
        }
      ]
    },
    {
      "cell_type": "code",
      "metadata": {
        "id": "S5gY9FcWU9NZ"
      },
      "source": [
        "np.save('/content/drive/MyDrive/covid_multiclass_classification/y_test.np', y_test)\n",
        "np.save('/content/drive/MyDrive/covid_multiclass_classification/preds.np', preds)"
      ],
      "execution_count": null,
      "outputs": []
    }
  ]
}